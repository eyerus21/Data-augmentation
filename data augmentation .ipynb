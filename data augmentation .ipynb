{
 "cells": [
  {
   "cell_type": "code",
   "execution_count": 12,
   "id": "moving-condition",
   "metadata": {},
   "outputs": [],
   "source": [
    "import muda\n",
    "import jams\n",
    "import glob\n",
    "import pathlib"
   ]
  },
  {
   "cell_type": "code",
   "execution_count": 182,
   "id": "operating-kenya",
   "metadata": {},
   "outputs": [],
   "source": [
    "jam= jams.JAMS()"
   ]
  },
  {
   "cell_type": "code",
   "execution_count": null,
   "id": "specific-slovak",
   "metadata": {},
   "outputs": [],
   "source": [
    "class DataAugmentation:\n",
    "    \n",
    "    \n",
    "    \n",
    "    def __init__(self):\n",
    "        pass\n",
    "    def pitch_shifting1(self, file):\n",
    "        pitch = muda.deformers.PitchShift(n_semitones=[-2,-1,1,2])\n",
    "        \n",
    "        for i, jam_out in enumerate(pitch.transform(jam)):\n",
    "             muda.save('p1_{:02d}.wav'.format(i),\n",
    "                      'p1_{:02d}.jams'.format(i),\n",
    "                     jam_out)\n",
    "    def time_stretching(self, file, suffix_file, stretching_array):            \n",
    "        "
   ]
  },
  {
   "cell_type": "code",
   "execution_count": 183,
   "id": "single-heater",
   "metadata": {},
   "outputs": [],
   "source": [
    "y= muda.load_jam_audio(jam, \"Downloads/sth/fold1_20/97317-2-0-5.wav\")"
   ]
  },
  {
   "cell_type": "code",
   "execution_count": 18,
   "id": "absolute-series",
   "metadata": {},
   "outputs": [],
   "source": [
    "files = glob.glob(\"sth/*/*.wav\")"
   ]
  },
  {
   "cell_type": "code",
   "execution_count": 19,
   "id": "coordinate-webmaster",
   "metadata": {},
   "outputs": [],
   "source": [
    "print(files)"
   ]
  },
  {
   "cell_type": "code",
   "execution_count": 3,
   "id": "closing-velvet",
   "metadata": {},
   "outputs": [],
   "source": [
    "import os\n",
    "import sys"
   ]
  },
  {
   "cell_type": "code",
   "execution_count": null,
   "id": "fresh-chancellor",
   "metadata": {},
   "outputs": [],
   "source": []
  },
  {
   "cell_type": "code",
   "execution_count": 20,
   "id": "joint-facility",
   "metadata": {},
   "outputs": [],
   "source": [
    "# y=os.listdir(\"sth/\")"
   ]
  },
  {
   "cell_type": "code",
   "execution_count": 21,
   "id": "hairy-sample",
   "metadata": {},
   "outputs": [],
   "source": [
    "# for i in y:\n",
    "#     x = os.listdir(f'sth/{i}')\n",
    "#     for j in x:\n",
    "#         print (j)"
   ]
  },
  {
   "cell_type": "code",
   "execution_count": 185,
   "id": "special-quarterly",
   "metadata": {},
   "outputs": [],
   "source": [
    "\n",
    "pitch = muda.deformers.PitchShift(n_semitones=[-2,-1,1,2])\n",
    "for i, jam_out in enumerate(pitch.transform(jam)):\n",
    "     muda.save('p1_{:02d}.wav'.format(i),\n",
    "              'p1_{:02d}.jams'.format(i),\n",
    "             jam_out)"
   ]
  },
  {
   "cell_type": "code",
   "execution_count": 126,
   "id": "competent-ethnic",
   "metadata": {},
   "outputs": [],
   "source": [
    "backN= muda.deformers.BackgroundNoise(n_samples=4, files=\"Downloads/sth/fold1_20/97317-2-0-5.wav\", weight_min=0.1, weight_max=0.5)\n",
    "for i, jam_out in enumerate(backN.transform(jam)):\n",
    "     muda.save('bac_{:02d}.wav'.format(i),\n",
    "              'bac_{:02d}.jams'.format(i),\n",
    "             jam_out)\n"
   ]
  },
  {
   "cell_type": "code",
   "execution_count": 105,
   "id": "automated-desperate",
   "metadata": {},
   "outputs": [],
   "source": [
    "dynamicReg= muda.deformers.DynamicRangeCompression(preset=['radio','film standard','music standard','speech'])#preset\t(str or list of str) One or more supported preset values: - radio - film standard - film light - music standard - music light - speech\n",
    "for i, jam_out in enumerate(dynamicReg.transform(jam)):\n",
    "     muda.save('dr_{:02d}.wav'.format(i),\n",
    "              'dr_{:02d}.jams'.format(i),\n",
    "             jam_out)\n"
   ]
  },
  {
   "cell_type": "code",
   "execution_count": 95,
   "id": "genuine-baltimore",
   "metadata": {},
   "outputs": [],
   "source": [
    "pitch = muda.deformers.PitchShift(n_semitones=[-3.5,-2.5,2.5,3.5])\n",
    "for i, jam_out in enumerate(pitch.transform(jam)):\n",
    "     muda.save('p2_{:02d}.wav'.format(i),\n",
    "              'p2_{:02d}.jams'.format(i),\n",
    "             jam_out)"
   ]
  },
  {
   "cell_type": "code",
   "execution_count": 104,
   "id": "separated-jewelry",
   "metadata": {},
   "outputs": [],
   "source": [
    "timeS=muda.deformers.TimeStretch(rate=[0.81,0.93,1.07,1.23])\n",
    "for i, jam_out in enumerate(timeS.transform(jam)):\n",
    "     muda.save('Ti_{:02d}.wav'.format(i),\n",
    "              'Ti_{:02d}.jams'.format(i),\n",
    "             jam_out)\n",
    "                                  "
   ]
  },
  {
   "cell_type": "code",
   "execution_count": null,
   "id": "impaired-bacteria",
   "metadata": {},
   "outputs": [],
   "source": []
  },
  {
   "cell_type": "code",
   "execution_count": null,
   "id": "considerable-rolling",
   "metadata": {},
   "outputs": [],
   "source": []
  },
  {
   "cell_type": "code",
   "execution_count": null,
   "id": "senior-indie",
   "metadata": {},
   "outputs": [],
   "source": []
  },
  {
   "cell_type": "code",
   "execution_count": null,
   "id": "opposite-christianity",
   "metadata": {},
   "outputs": [],
   "source": []
  },
  {
   "cell_type": "code",
   "execution_count": null,
   "id": "foreign-tattoo",
   "metadata": {},
   "outputs": [],
   "source": []
  },
  {
   "cell_type": "code",
   "execution_count": null,
   "id": "virgin-symbol",
   "metadata": {},
   "outputs": [],
   "source": []
  },
  {
   "cell_type": "code",
   "execution_count": null,
   "id": "clear-shelter",
   "metadata": {},
   "outputs": [],
   "source": []
  },
  {
   "cell_type": "code",
   "execution_count": 45,
   "id": "binding-acting",
   "metadata": {},
   "outputs": [],
   "source": [
    "filename=\"Downloads/sth (1)/fold1_20/97317-2-0-5.wav\"\n",
    "n_samples=4\n",
    "sr=44100\n",
    "start, stop=sample_clip_indices(filename,n_samples , sr)"
   ]
  },
  {
   "cell_type": "code",
   "execution_count": 46,
   "id": "forty-belle",
   "metadata": {},
   "outputs": [],
   "source": [
    "Slice = slice_clip(filename, start, stop, n_samples, sr, mono=True)"
   ]
  },
  {
   "cell_type": "code",
   "execution_count": 47,
   "id": "verified-allergy",
   "metadata": {},
   "outputs": [
    {
     "data": {
      "text/plain": [
       "array([-0.04359436, -0.0461731 , -0.04644775, -0.03691101])"
      ]
     },
     "execution_count": 47,
     "metadata": {},
     "output_type": "execute_result"
    }
   ],
   "source": [
    "Slice"
   ]
  },
  {
   "cell_type": "code",
   "execution_count": 50,
   "id": "unlikely-punishment",
   "metadata": {},
   "outputs": [],
   "source": [
    "A.audio=BackgroundNoise(n_samples,filename)"
   ]
  },
  {
   "cell_type": "code",
   "execution_count": 51,
   "id": "binary-summary",
   "metadata": {},
   "outputs": [
    {
     "data": {
      "text/plain": [
       "BackgroundNoise(files=['Downloads/sth (1)/fold1_20/97317-2-0-5.wav'],\n",
       "        n_samples=4, weight_max=0.5, weight_min=0.1)"
      ]
     },
     "execution_count": 51,
     "metadata": {},
     "output_type": "execute_result"
    }
   ],
   "source": [
    "A"
   ]
  },
  {
   "cell_type": "code",
   "execution_count": null,
   "id": "authorized-miller",
   "metadata": {},
   "outputs": [],
   "source": []
  }
 ],
 "metadata": {
  "kernelspec": {
   "display_name": "Python 3",
   "language": "python",
   "name": "python3"
  },
  "language_info": {
   "codemirror_mode": {
    "name": "ipython",
    "version": 3
   },
   "file_extension": ".py",
   "mimetype": "text/x-python",
   "name": "python",
   "nbconvert_exporter": "python",
   "pygments_lexer": "ipython3",
   "version": "3.8.5"
  }
 },
 "nbformat": 4,
 "nbformat_minor": 5
}
